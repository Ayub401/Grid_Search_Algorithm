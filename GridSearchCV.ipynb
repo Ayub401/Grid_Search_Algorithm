{
 "cells": [
  {
   "cell_type": "code",
   "execution_count": 1,
   "metadata": {
    "id": "ZcCHqcAMk0su"
   },
   "outputs": [],
   "source": [
    "from sklearn.datasets import make_classification  #helps to make a dummy data set.\n",
    "from sklearn.model_selection import train_test_split\n",
    "from sklearn.preprocessing import StandardScaler\n",
    "import numpy\n",
    "from tqdm import tqdm\n",
    "import numpy as np\n",
    "from sklearn.metrics.pairwise import euclidean_distances\n",
    "import pandas as pd\n",
    "import matplotlib.pyplot as plt"
   ]
  },
  {
   "cell_type": "code",
   "execution_count": 2,
   "metadata": {
    "id": "mjqQmDezT4Zd"
   },
   "outputs": [],
   "source": [
    "x,y = make_classification(n_samples=1000000, n_features=2,n_classes=2, \n",
    "                          n_informative=2, n_redundant= 0, \n",
    "                          n_clusters_per_class=1, random_state=60)\n",
    "\n",
    "# x contains the data point whereas y contains the corresponding class level.\n"
   ]
  },
  {
   "cell_type": "code",
   "execution_count": 3,
   "metadata": {
    "colab": {
     "base_uri": "https://localhost:8080/"
    },
    "id": "I6Zs46ShUPQI",
    "outputId": "f7cf13fa-ea31-4272-85ed-7bc4d02d6c67"
   },
   "outputs": [
    {
     "name": "stdout",
     "output_type": "stream",
     "text": [
      "<class 'numpy.ndarray'>\n",
      "<class 'numpy.ndarray'>\n"
     ]
    }
   ],
   "source": [
    "print(type(x))\n",
    "print(type(y))"
   ]
  },
  {
   "cell_type": "code",
   "execution_count": 4,
   "metadata": {
    "colab": {
     "base_uri": "https://localhost:8080/"
    },
    "id": "1-iNh8xvUXLY",
    "outputId": "d8da0e1f-92fe-4361-9c31-847a5b6c078b"
   },
   "outputs": [
    {
     "name": "stdout",
     "output_type": "stream",
     "text": [
      "(1000000, 2)\n",
      "(1000000,)\n"
     ]
    }
   ],
   "source": [
    "print(x.shape)    #Data points\n",
    "print(y.shape)   #class levels"
   ]
  },
  {
   "cell_type": "code",
   "execution_count": 5,
   "metadata": {
    "colab": {
     "base_uri": "https://localhost:8080/"
    },
    "id": "jNf-biksUrnt",
    "outputId": "449e6275-ff40-40ef-9d04-7e605e7ebb50"
   },
   "outputs": [
    {
     "name": "stdout",
     "output_type": "stream",
     "text": [
      "[[-0.45622346 -2.00787554]\n",
      " [ 0.51033642 -0.66193302]\n",
      " [-0.94960972 -1.21611803]\n",
      " ...\n",
      " [-1.02275592 -0.14979745]\n",
      " [-0.60804739 -1.87694858]\n",
      " [-2.55317027  0.13952058]]\n"
     ]
    }
   ],
   "source": [
    "print(x)"
   ]
  },
  {
   "cell_type": "code",
   "execution_count": 6,
   "metadata": {
    "id": "Lp3T0rKnKHBZ"
   },
   "outputs": [],
   "source": [
    "X_train, X_test, Y_train, Y_test = train_test_split(x,y, stratify=y,test_size = 0.3, random_state = 42)"
   ]
  },
  {
   "cell_type": "code",
   "execution_count": 7,
   "metadata": {
    "colab": {
     "base_uri": "https://localhost:8080/"
    },
    "id": "mFJlb0GBLBxJ",
    "outputId": "2358ce06-9bb7-4540-b29f-8e6674d74e41"
   },
   "outputs": [
    {
     "name": "stdout",
     "output_type": "stream",
     "text": [
      "(700000, 2)\n",
      "(700000,)\n"
     ]
    }
   ],
   "source": [
    "print(X_train.shape)\n",
    "print(Y_train.shape)"
   ]
  },
  {
   "cell_type": "code",
   "execution_count": 8,
   "metadata": {
    "colab": {
     "base_uri": "https://localhost:8080/",
     "height": 266
    },
    "id": "4pUkhsmkk0s2",
    "outputId": "fc6922c1-563e-4d3c-f37b-f65d04ba89dd"
   },
   "outputs": [
    {
     "data": {
      "image/png": "[encoded data removed]",
      "text/plain": [
       "<Figure size 432x288 with 1 Axes>"
      ]
     },
     "metadata": {
      "needs_background": "light"
     },
     "output_type": "display_data"
    }
   ],
   "source": [
    "# checking the distribution of X_train.\n",
    "import matplotlib.pyplot as plt\n",
    "plt.scatter(X_test[:,0], X_test[:,1],c=Y_test)\n",
    "plt.show()"
   ]
  },
  {
   "cell_type": "markdown",
   "metadata": {
    "id": "hkcerMvNk0s9"
   },
   "source": [
    "# Implementing Custom GridSearchCV\n",
    "\n",
    "Hyperparameter tuning is a powerful tool to enhance your supervised learning models— improving accuracy, precision, and other important metrics by searching the optimal model parameters based on different scoring methods. There are two main options available from sklearn: GridSearchCV and RandomSearchCV. "
   ]
  },
  {
   "cell_type": "code",
   "execution_count": 9,
   "metadata": {
    "id": "uwPmf6uwMD-E"
   },
   "outputs": [],
   "source": [
    "from sklearn.metrics import accuracy_score\n",
    "from sklearn.neighbors import KNeighborsClassifier\n",
    "from sklearn.metrics import accuracy_score\n",
    "import matplotlib.pyplot as plt\n",
    "import random\n",
    "import warnings\n",
    "warnings.filterwarnings(\"ignore\")"
   ]
  },
  {
   "cell_type": "code",
   "execution_count": 10,
   "metadata": {
    "id": "l5Cg4ekiKg6T"
   },
   "outputs": [],
   "source": [
    "classifier = KNeighborsClassifier()  # we will compute the best K for knn using Gridsearch method.\n",
    "\n",
    "K_values = {'n_neighbors':[2,5,7,9,11,13,15,17,19,21,23]}  # i will test the model for this list of K.\n",
    "folds = 3       # i want 3 cross validation.\n"
   ]
  },
  {
   "cell_type": "code",
   "execution_count": 11,
   "metadata": {
    "id": "30R5KHwBMzf2"
   },
   "outputs": [],
   "source": [
    "import random\n",
    "# the below clas will split the X_train randomly and return the thier indeces. \n",
    "def randomly_select_60_percent_indices_in_range_from_1_to_len(X_train):\n",
    "    return random.sample(range(0, len(X_train)), int(0.6*len(X_train))) \n",
    "    # i am extracting the index of 60% point from the X_train.\n",
    "\n",
    "        # the above function will help us to select the random data set for training the model.\n",
    "        #extracting of the data will be done on the basis of index\n",
    "#randomly_select_60_percent_indices_in_range_from_1_to_len(X_train) \n",
    "#index will help us to extrac the class level from the Y_train.  "
   ]
  },
  {
   "cell_type": "code",
   "execution_count": 12,
   "metadata": {
    "id": "ECIhANaPk0s-"
   },
   "outputs": [],
   "source": [
    "def GridSearch(X_train,Y_train,classifier, K_values, folds):\n",
    "    trainscores = []  # train score for each k.\n",
    "    testscores  = []    \n",
    "    for k in tqdm(K_values['n_neighbors']):   # K=2 for the first iternation. Three cross validation will be\n",
    "        trainscores_folds = []    #score for one k but three validation.             #done for k = 2 only.\n",
    "        testscores_folds  = []\n",
    "        for j in range(0, folds):  #3 fold will be done for each value of K.\n",
    "            # check this out: https://stackoverflow.com/a/9755548/4084039\n",
    "            #function calling to split the X_train.\n",
    "            train_indices = randomly_select_60_percent_indices_in_range_from_1_to_len(X_train) \n",
    "                                                                    #will change in each iteration.\n",
    "            test_indices  = list(set(list(range(1, len(X_train)))) - set(train_indices))\n",
    "                            #all indeces-train indeces  = test indeces.\n",
    "            # note that from the above code the X_train has splited in two parts.                \n",
    "            # selecting the data points based on the train_indices and test_indices\n",
    "            \n",
    "            # this can be consider as first cross validation data set.\n",
    "            x_train = X_train[train_indices]  #extracting the data point as nd array.\n",
    "            x_train_C_level = Y_train[train_indices]    #class level.\n",
    "            x_test  = X_train[test_indices]\n",
    "            x_test_C_level  = Y_train[test_indices]\n",
    "\n",
    "            classifier.n_neighbors = k  #k=2 for the first iterantion this will chage in second\n",
    "            classifier.fit(x_train,x_train_C_level)\n",
    "\n",
    "            y_predicted = classifier.predict(x_test)\n",
    "            testscores_folds.append(accuracy_score(x_test_C_level, y_predicted))\n",
    "\n",
    "            y_predicted = classifier.predict(x_train)\n",
    "            trainscores_folds.append(accuracy_score(x_train_C_level, y_predicted))\n",
    "        trainscores.append(np.mean(np.array(trainscores_folds)))\n",
    "        testscores.append(np.mean(np.array(testscores_folds)))\n",
    "    return trainscores,testscores"
   ]
  },
  {
   "cell_type": "code",
   "execution_count": 13,
   "metadata": {
    "colab": {
     "base_uri": "https://localhost:8080/"
    },
    "id": "4n4fuPQyK9me",
    "outputId": "0fe0e713-85b1-4cc8-8328-00d876ba7902"
   },
   "outputs": [
    {
     "name": "stderr",
     "output_type": "stream",
     "text": [
      "100%|███████████████████████████████████████████| 11/11 [17:09<00:00, 93.60s/it]\n"
     ]
    }
   ],
   "source": [
    "trainscores,testscores = GridSearch(X_train,Y_train,classifier, K_values, folds)"
   ]
  },
  {
   "cell_type": "code",
   "execution_count": 17,
   "metadata": {
    "colab": {
     "base_uri": "https://localhost:8080/",
     "height": 281
    },
    "id": "B9fI2tTck0tC",
    "outputId": "3b159e67-5d9f-41ba-856d-1aab37ead7fd"
   },
   "outputs": [
    {
     "data": {
      "image/png": "[encoded data removed]",
      "text/plain": [
       "<Figure size 432x288 with 1 Axes>"
      ]
     },
     "metadata": {
      "needs_background": "light"
     },
     "output_type": "display_data"
    }
   ],
   "source": [
    "plt.plot(K_values['n_neighbors'],trainscores, label='train cruve')\n",
    "plt.plot(K_values['n_neighbors'],testscores, label='test cruve')\n",
    "plt.title('Hyper-parameter VS accuracy plot')\n",
    "plt.legend()\n",
    "plt.show()"
   ]
  },
  {
   "cell_type": "code",
   "execution_count": 18,
   "metadata": {
    "id": "FxPdFjTjk0tG"
   },
   "outputs": [],
   "source": [
    "# understanding this code line by line is not that importent \n",
    "def plot_decision_boundary(X1, X2, y, clf):\n",
    "        # Create color maps\n",
    "    cmap_light = ListedColormap(['#FFAAAA', '#AAFFAA', '#AAAAFF'])\n",
    "    cmap_bold = ListedColormap(['#FF0000', '#00FF00', '#0000FF'])\n",
    "\n",
    "    x_min, x_max = X1.min() - 1, X1.max() + 1\n",
    "    y_min, y_max = X2.min() - 1, X2.max() + 1\n",
    "    \n",
    "    xx, yy = np.meshgrid(np.arange(x_min, x_max, 0.02), np.arange(y_min, y_max, 0.02))\n",
    "    Z = clf.predict(np.c_[xx.ravel(), yy.ravel()])\n",
    "    Z = Z.reshape(xx.shape)\n",
    "\n",
    "    plt.figure()\n",
    "    plt.pcolormesh(xx, yy, Z, cmap=cmap_light)\n",
    "    # Plot also the training points\n",
    "    plt.scatter(X1, X2, c=y, cmap=cmap_bold)\n",
    "    \n",
    "    plt.xlim(xx.min(), xx.max())\n",
    "    plt.ylim(yy.min(), yy.max())\n",
    "    plt.title(\"2-Class classification (k = %i)\" % (clf.n_neighbors))\n",
    "    plt.show()"
   ]
  },
  {
   "cell_type": "code",
   "execution_count": 19,
   "metadata": {
    "colab": {
     "base_uri": "https://localhost:8080/",
     "height": 281
    },
    "id": "qGOKiuBnk0tJ",
    "outputId": "48525307-7f11-49fd-e134-37fc11a402d4"
   },
   "outputs": [
    {
     "data": {
      "image/png": "[encoded data removed]",
      "text/plain": [
       "<Figure size 432x288 with 1 Axes>"
      ]
     },
     "metadata": {
      "needs_background": "light"
     },
     "output_type": "display_data"
    }
   ],
   "source": [
    "from matplotlib.colors import ListedColormap\n",
    "neigh = KNeighborsClassifier(n_neighbors = 21)\n",
    "neigh.fit(X_train, Y_train)\n",
    "plot_decision_boundary(X_train[:, 0], X_train[:, 1], Y_train, neigh)"
   ]
  },
  {
   "cell_type": "code",
   "execution_count": null,
   "metadata": {},
   "outputs": [],
   "source": []
  }
 ],
 "metadata": {
  "colab": {
   "collapsed_sections": [],
   "name": "GridSearchCV_Reference.ipynb",
   "provenance": []
  },
  "kernelspec": {
   "display_name": "Python 3 (ipykernel)",
   "language": "python",
   "name": "python3"
  },
  "language_info": {
   "codemirror_mode": {
    "name": "ipython",
    "version": 3
   },
   "file_extension": ".py",
   "mimetype": "text/x-python",
   "name": "python",
   "nbconvert_exporter": "python",
   "pygments_lexer": "ipython3",
   "version": "3.9.7"
  }
 },
 "nbformat": 4,
 "nbformat_minor": 1
}
